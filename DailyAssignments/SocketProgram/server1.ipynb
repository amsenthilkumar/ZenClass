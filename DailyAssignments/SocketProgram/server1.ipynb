{
 "cells": [
  {
   "cell_type": "code",
   "execution_count": 3,
   "metadata": {},
   "outputs": [
    {
     "name": "stdout",
     "output_type": "stream",
     "text": [
      "\n",
      "Welcome to Chat Room\n",
      "\n",
      "Initialising....\n",
      "\n",
      "DELL-PC ( 192.168.68.126 )\n",
      "\n",
      "Enter your name: sen\n",
      "\n",
      "Waiting for incoming connections...\n",
      "\n",
      "Received connection from  192.168.68.126 ( 51329 )\n",
      "\n",
      "d has connected to the chat room\n",
      "Enter [e] to exit chat room\n",
      "\n",
      "Me : hi\n",
      "d : hello\n",
      "Me : hhhh\n",
      "d : dddd\n",
      "Me : e\n",
      "d : Left chat room!\n",
      "Me : [e]\n",
      "\n",
      "\n"
     ]
    }
   ],
   "source": [
    "import time, socket, sys\n",
    "\n",
    "print(\"\\nWelcome to Chat Room\\n\")\n",
    "print(\"Initialising....\\n\")\n",
    "time.sleep(1)\n",
    "\n",
    "s = socket.socket()\n",
    "host = socket.gethostname()\n",
    "ip = socket.gethostbyname(host)\n",
    "port = 1238\n",
    "s.bind((host, port))\n",
    "print(host, \"(\", ip, \")\\n\")\n",
    "name = input(str(\"Enter your name: \"))\n",
    "           \n",
    "s.listen(1)\n",
    "print(\"\\nWaiting for incoming connections...\\n\")\n",
    "conn, addr = s.accept()\n",
    "print(\"Received connection from \", addr[0], \"(\", addr[1], \")\\n\")\n",
    "\n",
    "s_name = conn.recv(1024)\n",
    "s_name = s_name.decode()\n",
    "print(s_name, \"has connected to the chat room\\nEnter [e] to exit chat room\\n\")\n",
    "conn.send(name.encode())\n",
    "\n",
    "while True:\n",
    "    message = input(str(\"Me : \"))\n",
    "    if message == \"[e]\":\n",
    "        message = \"Left chat room!\"\n",
    "        conn.send(message.encode())\n",
    "        print(\"\\n\")\n",
    "        break\n",
    "    conn.send(message.encode())\n",
    "    message = conn.recv(1024)\n",
    "    message = message.decode()\n",
    "    print(s_name, \":\", message)"
   ]
  },
  {
   "cell_type": "code",
   "execution_count": null,
   "metadata": {},
   "outputs": [],
   "source": []
  }
 ],
 "metadata": {
  "kernelspec": {
   "display_name": "Python 3",
   "language": "python",
   "name": "python3"
  },
  "language_info": {
   "codemirror_mode": {
    "name": "ipython",
    "version": 3
   },
   "file_extension": ".py",
   "mimetype": "text/x-python",
   "name": "python",
   "nbconvert_exporter": "python",
   "pygments_lexer": "ipython3",
   "version": "3.7.1"
  }
 },
 "nbformat": 4,
 "nbformat_minor": 2
}
