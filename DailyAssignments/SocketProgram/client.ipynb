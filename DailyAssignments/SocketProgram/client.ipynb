{
 "cells": [
  {
   "cell_type": "code",
   "execution_count": 11,
   "metadata": {},
   "outputs": [
    {
     "name": "stdout",
     "output_type": "stream",
     "text": [
      "\n",
      "Welcome to Chat Room\n",
      "\n",
      "Initialising....\n",
      "\n",
      "DELL-PC ( 192.168.68.126 )\n",
      "\n",
      "Enter server address: 192.168.68.126\n",
      "\n",
      "Enter your name: d\n",
      "\n",
      "Trying to connect to  192.168.68.126 ( 1238 )\n",
      "\n",
      "Connected...\n",
      "\n",
      "sen has joined the chat room\n",
      "Enter [e] to exit chat room\n",
      "\n",
      "sen : hi\n",
      "Me : hello\n",
      "sen : hhhh\n",
      "Me : dddd\n",
      "sen : e\n",
      "Me : [e]\n",
      "\n",
      "\n"
     ]
    }
   ],
   "source": [
    "import time, socket, sys\n",
    "\n",
    "print(\"\\nWelcome to Chat Room\\n\")\n",
    "print(\"Initialising....\\n\")\n",
    "time.sleep(1)\n",
    "\n",
    "s = socket.socket()\n",
    "shost = socket.gethostname()\n",
    "ip = socket.gethostbyname(shost)\n",
    "print(shost, \"(\", ip, \")\\n\")\n",
    "host = input(str(\"Enter server address: \"))\n",
    "name = input(str(\"\\nEnter your name: \"))\n",
    "port = 1238\n",
    "print(\"\\nTrying to connect to \", host, \"(\", port, \")\\n\")\n",
    "time.sleep(1)\n",
    "s.connect((host, port))\n",
    "print(\"Connected...\\n\")\n",
    "\n",
    "s.send(name.encode())\n",
    "s_name = s.recv(1024)\n",
    "s_name = s_name.decode()\n",
    "print(s_name, \"has joined the chat room\\nEnter [e] to exit chat room\\n\")\n",
    "\n",
    "while True:\n",
    "    message = s.recv(1024)\n",
    "    message = message.decode()\n",
    "    print(s_name, \":\", message)\n",
    "    message = input(str(\"Me : \"))\n",
    "    if message == \"[e]\":\n",
    "        message = \"Left chat room!\"\n",
    "        s.send(message.encode())\n",
    "        print(\"\\n\")\n",
    "        break\n",
    "    s.send(message.encode())"
   ]
  },
  {
   "cell_type": "code",
   "execution_count": null,
   "metadata": {},
   "outputs": [],
   "source": []
  }
 ],
 "metadata": {
  "kernelspec": {
   "display_name": "Python 3",
   "language": "python",
   "name": "python3"
  },
  "language_info": {
   "codemirror_mode": {
    "name": "ipython",
    "version": 3
   },
   "file_extension": ".py",
   "mimetype": "text/x-python",
   "name": "python",
   "nbconvert_exporter": "python",
   "pygments_lexer": "ipython3",
   "version": "3.7.1"
  }
 },
 "nbformat": 4,
 "nbformat_minor": 2
}
